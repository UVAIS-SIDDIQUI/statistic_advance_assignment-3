{
 "cells": [
  {
   "cell_type": "code",
   "execution_count": 1,
   "id": "bb6031f2-a414-4618-ae0e-656af2fe8d64",
   "metadata": {},
   "outputs": [],
   "source": [
    "# Q1: What is Estimation Statistics? Explain point estimate and interval estimate."
   ]
  },
  {
   "cell_type": "markdown",
   "id": "94435cd3-9125-4c58-9029-05dc1809b53b",
   "metadata": {},
   "source": [
    "ANS = Estimation statistics involves the use of sample data to make inferences or estimations about population parameters. Two common types of estimation in statistics are point estimation and interval estimation:\n",
    "\n",
    "Point Estimate:\n",
    "\n",
    "A point estimate is a single value estimate of a population parameter based on sample data. For example, if you want to estimate the population mean based on a sample mean, the sample mean itself serves as the point estimate of the population mean. Point estimates provide a single, best guess of the parameter, but they don't indicate the uncertainty associated with the estimate.\n",
    "\n",
    "Interval Estimate:\n",
    "\n",
    "Interval estimation, also known as confidence interval estimation, provides a range of values within which the true population parameter is likely to fall, along with a level of confidence associated with that range. It takes into account the variability in the sample data and provides a measure of uncertainty.\n",
    "\n",
    "Confidence intervals are often expressed at certain confidence levels, such as 95% or 99%. A 95% confidence interval implies that if we were to take repeated samples and compute confidence intervals for each sample, we would expect approximately 95% of those intervals to contain the true population parameter.\n",
    "The width of the confidence interval depends on factors such as sample size and variability within the sample. A larger sample size generally results in a narrower interval, while increased variability leads to wider intervals."
   ]
  },
  {
   "cell_type": "code",
   "execution_count": 2,
   "id": "11d21529-73bd-446c-a24f-8e82e5dd0bbd",
   "metadata": {},
   "outputs": [],
   "source": [
    "# Q2. Write a Python function to estimate the population mean using a sample mean and standard\n",
    "# deviation."
   ]
  },
  {
   "cell_type": "code",
   "execution_count": 4,
   "id": "0b88d343-307f-4fdd-ba1b-f242abb804c2",
   "metadata": {},
   "outputs": [
    {
     "name": "stdout",
     "output_type": "stream",
     "text": [
      "Estimated Population Mean: 50.0\n"
     ]
    }
   ],
   "source": [
    "def estimate_population_mean(sample_mean, sample_std_dev, sample_size):\n",
    "    \"\"\"\n",
    "    Estimate the population mean using a sample mean and standard deviation.\n",
    "    \n",
    "    Parameters:\n",
    "    - sample_mean: The mean of the sample.\n",
    "    - sample_std_dev: The standard deviation of the sample.\n",
    "    - sample_size: The size of the sample.\n",
    "    \n",
    "    Returns:\n",
    "    - population_mean: The estimated population mean.\n",
    "    \"\"\"\n",
    "    import math\n",
    "    \n",
    "    # Using the formula for estimating the population mean from a sample mean\n",
    "    population_mean = sample_mean * math.sqrt(sample_size) / sample_std_dev\n",
    "    \n",
    "    return population_mean\n",
    "\n",
    "# Example \n",
    "sample_mean = 50\n",
    "sample_std_dev = 10\n",
    "sample_size = 100\n",
    "\n",
    "estimated_population_mean = estimate_population_mean(sample_mean, sample_std_dev, sample_size)\n",
    "print(\"Estimated Population Mean:\", estimated_population_mean)\n"
   ]
  },
  {
   "cell_type": "code",
   "execution_count": 5,
   "id": "1c7579ab-6f61-46da-ab94-3e5ee704c533",
   "metadata": {},
   "outputs": [],
   "source": [
    "# Q3: What is Hypothesis testing? Why is it used? State the importance of Hypothesis testing."
   ]
  },
  {
   "cell_type": "markdown",
   "id": "d7104266-161a-4ac0-9230-266dd2e8fce3",
   "metadata": {},
   "source": [
    "ANS = Hypothesis testing is a statistical method used to make inferences about population parameters based on sample data. It involves formulating a hypothesis about the population parameter, collecting sample data, and then using statistical techniques to assess the validity of the hypothesis.\n",
    "\n",
    "Here's a basic outline of how hypothesis testing works:\n",
    "\n",
    "Formulate Hypotheses: \n",
    "\n",
    "The process starts with the formulation of two hypotheses: the null hypothesis (H0) and the alternative hypothesis (H1 or Ha). The null hypothesis typically represents the status quo or a statement of no effect, while the alternative hypothesis represents what the researcher is trying to prove or disprove.\n",
    "\n",
    "Collect Data:\n",
    "\n",
    "Data is collected from a sample or samples relevant to the hypothesis being tested.\n",
    "\n",
    "Choose a Significance Level: The significance level (denoted by alpha, usually set at 0.05 or 0.01) represents the threshold for rejecting the null hypothesis. It determines how much evidence is needed to reject the null hypothesis.\n",
    "\n",
    "Conduct Statistical Test:\n",
    "\n",
    "A statistical test (e.g., t-test, z-test, chi-square test) is selected based on the type of data and hypothesis being tested. The test statistic is calculated from the sample data.\n",
    "\n",
    "Make a Decision:\n",
    "\n",
    "The calculated test statistic is compared to a critical value from the appropriate statistical distribution. If the test statistic falls within the critical region (i.e., extreme enough to reject the null hypothesis), the null hypothesis is rejected in favor of the alternative hypothesis. Otherwise, if the test statistic does not fall within the critical region, the null hypothesis is not rejected.\n",
    "\n",
    "The importance of hypothesis testing lies in its ability to provide a systematic framework for making decisions based on empirical evidence. Here are some key reasons why hypothesis testing is important:\n",
    "\n",
    "Evidence-Based Decision Making: \n",
    "\n",
    "Hypothesis testing allows researchers and decision-makers to base their conclusions on empirical evidence rather than intuition or guesswork.\n",
    "\n",
    "Scientific Inquiry:\n",
    "\n",
    "In scientific research, hypothesis testing is essential for validating or refuting theories and hypotheses. It helps advance knowledge by providing a systematic way to evaluate competing explanations for observed phenomena.\n",
    "\n",
    "Quality Control and Process Improvement:\n",
    "\n",
    "In fields such as manufacturing and quality control, hypothesis testing is used to assess whether process improvements or changes have a significant impact on outcomes.\n",
    "\n",
    "Policy and Business Decisions:\n",
    "\n",
    "Hypothesis testing is used in various fields, including economics, sociology, and public policy, to evaluate the effectiveness of interventions, policies, and business strategies.\n",
    "\n",
    "Risk Assessment: \n",
    "\n",
    "By quantifying the level of uncertainty associated with a hypothesis, hypothesis testing helps assess risks and make informed decisions in situations where outcomes are uncertain."
   ]
  },
  {
   "cell_type": "code",
   "execution_count": 6,
   "id": "cc4c5439-fb05-4474-bdc7-5f71cf4f751b",
   "metadata": {},
   "outputs": [],
   "source": [
    "# Q4. Create a hypothesis that states whether the average weight of male college students is greater than\n",
    "# the average weight of female college students."
   ]
  },
  {
   "cell_type": "markdown",
   "id": "410ec98c-adfd-401f-ab87-d3348435f875",
   "metadata": {},
   "source": [
    "ANS = The hypothesis regarding the average weight of male college students compared to female college students can be stated as follows:\n",
    "\n",
    "Null Hypothesis (H0): The average weight of male college students is equal to or less than the average weight of female college students.\n",
    "\n",
    "Alternative Hypothesis (H1): The average weight of male college students is greater than the average weight of female college students.\n",
    "\n",
    "Mathematically, the hypotheses can be expressed as:\n",
    "\n",
    "H0: μ_male <= μ_female\n",
    "H1: μ_male > μ_female\n",
    "\n",
    "Where:\n",
    "\n",
    "μ_male represents the population mean weight of male college students.\n",
    "μ_female represents the population mean weight of female college students.\n",
    "In hypothesis testing, we would collect data on the weights of male and female college students and then use statistical techniques to determine whether there is sufficient evidence to reject the null hypothesis in favor of the alternative hypothesis"
   ]
  },
  {
   "cell_type": "code",
   "execution_count": 1,
   "id": "2ab7f717-29cb-44e3-a3dc-43bbdc8ce67b",
   "metadata": {},
   "outputs": [],
   "source": [
    "# Q5. Write a Python script to conduct a hypothesis test on the difference between two population means, \n",
    "# given a sample from each population."
   ]
  },
  {
   "cell_type": "code",
   "execution_count": 1,
   "id": "fd0fea1a-5f41-4ae8-81bd-7247df64a474",
   "metadata": {},
   "outputs": [
    {
     "name": "stdout",
     "output_type": "stream",
     "text": [
      "T-Statistic: -3.3881034935519407\n",
      "P-Value: 0.0032766983075918077\n",
      "Reject the null hypothesis. There is sufficient evidence to say that the population means are different.\n"
     ]
    }
   ],
   "source": [
    "import numpy as np\n",
    "from scipy import stats\n",
    "\n",
    "# Sample data from Population 1\n",
    "population1_sample = [10, 12, 15, 14, 11, 13, 16, 15, 13, 12]\n",
    "\n",
    "# Sample data from Population 2\n",
    "population2_sample = [14, 16, 17, 18, 13, 15, 16, 17, 16, 15]\n",
    "\n",
    "# Calculate sample means and standard deviations\n",
    "mean1 = np.mean(population1_sample)\n",
    "mean2 = np.mean(population2_sample)\n",
    "std1 = np.std(population1_sample, ddof=1)  # ddof=1 for sample standard deviation\n",
    "std2 = np.std(population2_sample, ddof=1)\n",
    "\n",
    "# Sample sizes\n",
    "n1 = len(population1_sample)\n",
    "n2 = len(population2_sample)\n",
    "\n",
    "# Calculate the t-statistic\n",
    "t_statistic = (mean1 - mean2) / np.sqrt((std1**2 / n1) + (std2**2 / n2))\n",
    "\n",
    "# Degrees of freedom\n",
    "df = n1 + n2 - 2\n",
    "\n",
    "# Calculate the p-value\n",
    "p_value = 2 * (1 - stats.t.cdf(np.abs(t_statistic), df))\n",
    "\n",
    "# Significance level\n",
    "alpha = 0.05\n",
    "\n",
    "# Print the results\n",
    "print(f\"T-Statistic: {t_statistic}\")\n",
    "print(f\"P-Value: {p_value}\")\n",
    "\n",
    "if p_value < alpha:\n",
    "    print(\"Reject the null hypothesis. There is sufficient evidence to say that the population means are different.\")\n",
    "else:\n",
    "    print(\"Fail to reject the null hypothesis. There is not sufficient evidence to say that the population means are different.\")\n"
   ]
  },
  {
   "cell_type": "markdown",
   "id": "f5f8a39a-8c6f-4a75-859f-cb45ce0b9356",
   "metadata": {},
   "source": [
    "In this script:\n",
    "\n",
    "We first define the sample data from Population 1 and Population 2.\n",
    "Then, we calculate the sample means, standard deviations, and sample sizes for each population.\n",
    "Next, we compute the t-statistic using the formula for the difference of means.\n",
    "We determine the degrees of freedom and calculate the p-value using the cumulative distribution function of the t-distribution.\n",
    "Finally, we compare the p-value to the chosen significance level (alpha) and make a conclusion based on whether to reject the null hypothesis or not."
   ]
  },
  {
   "cell_type": "code",
   "execution_count": 2,
   "id": "4a107fce-b74f-4879-bc8a-b7a93db68806",
   "metadata": {},
   "outputs": [],
   "source": [
    "# Q6: What is a null and alternative hypothesis? Give some examples."
   ]
  },
  {
   "cell_type": "markdown",
   "id": "226a6c42-87e3-45a7-9945-24a5fcd6a394",
   "metadata": {},
   "source": [
    "ANS = In statistics, the null hypothesis (H0) and alternative hypothesis (H1 or Ha) are statements used to make inferences about a population based on sample data. These hypotheses are used in hypothesis testing to assess whether there is enough evidence to reject the null hypothesis in favor of the alternative hypothesis.\n",
    "\n",
    "Null Hypothesis (H0):\n",
    "\n",
    "The null hypothesis is a statement of no effect or no difference.\n",
    "It represents the status quo or the default assumption.\n",
    "In hypothesis testing, we typically aim to either reject or fail to reject the null hypothesis.\n",
    "If there is no significant evidence against the null hypothesis, we generally retain it.\n",
    "The null hypothesis often states that there is no relationship, no difference, or no effect.\n",
    "Example:\n",
    "\n",
    "H0: There is no difference in the mean test scores between two groups.\n",
    "H0: The new drug treatment does not reduce blood pressure.\n",
    "H0: The coin is fair and has an equal probability of landing heads or tails.\n",
    "Alternative Hypothesis (H1 or Ha):\n",
    "\n",
    "The alternative hypothesis is the statement that we want to provide evidence for.\n",
    "It is the opposite of the null hypothesis or what we believe to be true if we reject the null hypothesis.\n",
    "It suggests that there is an effect, difference, or relationship in the population.\n",
    "Example:\n",
    "\n",
    "Ha: There is a difference in the mean test scores between two groups.\n",
    "Ha: The new drug treatment reduces blood pressure.\n",
    "Ha: The coin is biased and does not have an equal probability of landing heads or tails"
   ]
  },
  {
   "cell_type": "code",
   "execution_count": 3,
   "id": "81768ff0-19da-4e17-94c7-ad5e6095d30e",
   "metadata": {},
   "outputs": [],
   "source": [
    "#Q7: Write down the steps involved in hypothesis testing."
   ]
  },
  {
   "cell_type": "markdown",
   "id": "9f425d11-913b-4bc2-906e-54ab657d1515",
   "metadata": {},
   "source": [
    "ANS = Hypothesis testing is a statistical method used to make inferences about a population based on sample data. The general steps involved in hypothesis testing are as follows:\n",
    "\n",
    "Formulate the Null Hypothesis (H0) and Alternative Hypothesis (H1):\n",
    "\n",
    "Define the null hypothesis, which typically represents the status quo or assumes no effect or no difference.\n",
    "Formulate the alternative hypothesis, which represents the opposite of the null hypothesis and is what you want to provide evidence for.\n",
    "Choose the Significance Level (α):\n",
    "\n",
    "The significance level (α) is the probability of rejecting the null hypothesis when it is actually true.\n",
    "Commonly used significance levels include 0.05, 0.01, and 0.10.\n",
    "The choice of significance level depends on the context of the study and the consequences of making Type I errors (rejecting the null hypothesis when it is true).\n",
    "Select the Appropriate Statistical Test:\n",
    "\n",
    "Choose a statistical test based on the type of data (e.g., continuous, categorical) and the research question being addressed.\n",
    "Common statistical tests include t-tests, z-tests, chi-square tests, ANOVA, correlation tests, and regression analysis, among others.\n",
    "Collect Sample Data:\n",
    "\n",
    "Obtain sample data from the population of interest through random sampling or other appropriate methods.\n",
    "Ensure that the sample is representative of the population to which you want to generalize the results.\n",
    "Calculate the Test Statistic:\n",
    "\n",
    "Compute the appropriate test statistic based on the chosen statistical test and the sample data collected.\n",
    "The test statistic quantifies the difference between the sample data and the null hypothesis.\n",
    "Determine the Critical Region:\n",
    "\n",
    "Determine the critical region or rejection region based on the chosen significance level (α) and the distribution of the test statistic.\n",
    "The critical region represents the values of the test statistic for which the null hypothesis will be rejected.\n",
    "Make a Decision:\n",
    "\n",
    "Compare the calculated test statistic with the critical value(s) from the distribution.\n",
    "If the test statistic falls within the critical region, reject the null hypothesis.\n",
    "If the test statistic does not fall within the critical region, fail to reject the null hypothesis.\n",
    "Draw Conclusion:\n",
    "\n",
    "Based on the decision made in step 7, draw conclusions about the population parameter(s) of interest.\n",
    "Interpret the results in the context of the research question and the significance level chosen.\n",
    "Report the Findings:\n",
    "\n",
    "Clearly communicate the results of the hypothesis test, including the test statistic, p-value (if applicable), decision made, and any relevant conclusions.\n",
    "Provide appropriate context and interpretations to aid in understanding the implications of the findings."
   ]
  },
  {
   "cell_type": "code",
   "execution_count": 4,
   "id": "868b1bff-c5f7-4385-b5ba-8116013a721f",
   "metadata": {},
   "outputs": [],
   "source": [
    "# Q8. Define p-value and explain its significance in hypothesis testing."
   ]
  },
  {
   "cell_type": "markdown",
   "id": "e9796823-1494-4fbb-aa5e-c761b3c7895f",
   "metadata": {},
   "source": [
    "ANS = The p-value, or probability value, is a measure used in hypothesis testing to quantify the strength of evidence against the null hypothesis (H0). It represents the probability of obtaining an observed result, or one more extreme, if the null hypothesis is true.\n",
    "\n",
    "Here's a more detailed explanation of the p-value and its significance in hypothesis testing:\n",
    "\n",
    "Definition: The p-value is a probability that measures the likelihood of obtaining the observed data, or data more extreme, under the assumption that the null hypothesis is true. It is a value between 0 and 1.\n",
    "\n",
    "Interpretation:\n",
    "\n",
    "A small p-value indicates strong evidence against the null hypothesis. It suggests that the observed data is unlikely to occur if the null hypothesis is true.\n",
    "A large p-value, on the other hand, suggests weak evidence against the null hypothesis. It indicates that the observed data is likely to occur even if the null hypothesis is true.\n",
    "Significance Level (α):\n",
    "\n",
    "The significance level, denoted by α, is the predetermined threshold used to determine the level of evidence required to reject the null hypothesis.\n",
    "Commonly used significance levels include 0.05, 0.01, and 0.10.\n",
    "Decision Rule:\n",
    "\n",
    "If the p-value is less than or equal to the significance level (p ≤ α), then the null hypothesis is rejected. This implies that the observed data provides sufficient evidence to conclude that the null hypothesis is unlikely to be true.\n",
    "If the p-value is greater than the significance level (p > α), then the null hypothesis is not rejected. This suggests that there is not enough evidence to conclude that the null hypothesis is false.\n",
    "Conclusion:\n",
    "\n",
    "A small p-value does not prove that the alternative hypothesis is true; it only suggests that the null hypothesis is unlikely to be true based on the observed data.\n",
    "The p-value helps researchers make informed decisions about whether to reject or fail to reject the null hypothesis, leading to conclusions about the population parameter(s) of interest.\n",
    "Factors Affecting the p-value:\n",
    "\n",
    "Sample size: Larger sample sizes tend to result in smaller p-values, as they provide more precise estimates of the population parameters.\n",
    "Effect size: The magnitude of the difference or effect being tested can influence the p-value.\n",
    "Variability of the data: Greater variability in the data can lead to larger p-values."
   ]
  },
  {
   "cell_type": "code",
   "execution_count": 5,
   "id": "1617867c-e236-46eb-95af-9510cd20c469",
   "metadata": {},
   "outputs": [],
   "source": [
    "#Q9. Generate a Student's t-distribution plot using Python's matplotlib library, with the degrees of freedom \n",
    "#parameter set to 10."
   ]
  },
  {
   "cell_type": "code",
   "execution_count": 1,
   "id": "85a8a56f-6680-4373-bdfe-73f815aff459",
   "metadata": {},
   "outputs": [
    {
     "data": {
      "image/png": "[encoded data removed]",
      "text/plain": [
       "<Figure size 800x600 with 1 Axes>"
      ]
     },
     "metadata": {},
     "output_type": "display_data"
    }
   ],
   "source": [
    "import numpy as np\n",
    "import matplotlib.pyplot as plt\n",
    "from scipy.stats import t\n",
    "\n",
    "# Define the degrees of freedom\n",
    "df = 10\n",
    "\n",
    "# Generate x values\n",
    "x = np.linspace(-5, 5, 1000)\n",
    "\n",
    "# Calculate the probability density function (PDF) values for the t-distribution\n",
    "pdf = t.pdf(x, df)\n",
    "\n",
    "# Plot the t-distribution\n",
    "plt.figure(figsize=(8, 6))\n",
    "plt.plot(x, pdf, label=f\"Student's t-distribution (df={df})\")\n",
    "plt.title(\"Student's t-distribution\")\n",
    "plt.xlabel('x')\n",
    "plt.ylabel('Probability Density')\n",
    "plt.legend()\n",
    "plt.grid(True)\n",
    "plt.show()\n"
   ]
  },
  {
   "cell_type": "markdown",
   "id": "5b7fc690-5aca-4049-a688-6ebb0dcb4841",
   "metadata": {},
   "source": [
    "This code will produce a plot of the Student's t-distribution with degrees of freedom equal to 10, ranging from -5 to 5 on the x-axis. You can adjust the range and other parameters as needed"
   ]
  },
  {
   "cell_type": "code",
   "execution_count": 2,
   "id": "05ea7b5b-7b5a-46f4-9e1d-d7c23d9e8362",
   "metadata": {},
   "outputs": [],
   "source": [
    "#Q10. Write a Python program to calculate the two-sample t-test for independent samples, given two \n",
    "#random samples of equal size and a null hypothesis that the population means are equal."
   ]
  },
  {
   "cell_type": "code",
   "execution_count": 3,
   "id": "348ec60e-bf1e-41f6-b0eb-873241247cd0",
   "metadata": {},
   "outputs": [
    {
     "name": "stdout",
     "output_type": "stream",
     "text": [
      "T-statistic: -0.9596162302465083\n",
      "P-value: 0.3653490177297469\n",
      "Fail to reject the null hypothesis. There is not enough evidence to suggest that the population means are different.\n"
     ]
    }
   ],
   "source": [
    "from scipy import stats\n",
    "\n",
    "# Define two random samples\n",
    "sample1 = [15, 16, 18, 20, 22]\n",
    "sample2 = [17, 18, 20, 21, 23]\n",
    "\n",
    "# Calculate the t-test for independent samples\n",
    "t_statistic, p_value = stats.ttest_ind(sample1, sample2)\n",
    "\n",
    "# Print the results\n",
    "print(\"T-statistic:\", t_statistic)\n",
    "print(\"P-value:\", p_value)\n",
    "\n",
    "# Interpret the results\n",
    "alpha = 0.05\n",
    "if p_value < alpha:\n",
    "    print(\"Reject the null hypothesis. There is enough evidence to suggest that the population means are different.\")\n",
    "else:\n",
    "    print(\"Fail to reject the null hypothesis. There is not enough evidence to suggest that the population means are different.\")\n"
   ]
  },
  {
   "cell_type": "markdown",
   "id": "d5dd521a-71a0-4d92-a3e2-51b28329e3e2",
   "metadata": {},
   "source": [
    "In this program:\n",
    "\n",
    "We define two random samples, sample1 and sample2.\n",
    "We then use the ttest_ind function from the scipy.stats module to perform the two-sample t-test for independent samples.\n",
    "Finally, we print out the t-statistic and p-value, and interpret the results based on a chosen significance level (alpha), typically set to 0.05. If the p-value is less than alpha, we reject the null hypothesis; otherwise, we fail to reject the null hypothesis."
   ]
  },
  {
   "cell_type": "code",
   "execution_count": 4,
   "id": "b876af00-6b0a-4dd2-a700-69b4a3062541",
   "metadata": {},
   "outputs": [],
   "source": [
    "# Q11: What is Student’s t distribution? When to use the t-Distribution."
   ]
  },
  {
   "cell_type": "markdown",
   "id": "982983c9-04e4-4479-9a85-9f7b62102345",
   "metadata": {},
   "source": [
    "ANS = Student's t-distribution, often referred to as the t-distribution, is a probability distribution that arises from estimating the mean of a normally distributed population when the sample size is small and the population standard deviation is unknown. It is similar to the standard normal distribution but has heavier tails, which makes it more appropriate for smaller sample sizes.\n",
    "\n",
    "Here are some key points about the t-distribution and when to use it:\n",
    "\n",
    "Shape and Characteristics: \n",
    "\n",
    "The t-distribution is bell-shaped and symmetrical, like the normal distribution, but with thicker tails. As the sample size increases, the t-distribution approaches the standard normal distribution.\n",
    "\n",
    "Parameter: The shape of the t-distribution depends on a parameter called the degrees of freedom (df), which is determined by the sample size. The degrees of freedom represent the number of independent pieces of information available from the sample.\n",
    "\n",
    "Small Sample Sizes:\n",
    "\n",
    "The t-distribution is particularly useful when dealing with small sample sizes (typically less than 30) and when the population standard deviation is unknown. In such cases, the sample standard deviation is used to estimate the population standard deviation.\n",
    "\n",
    "Hypothesis Testing: \n",
    "\n",
    "The t-distribution is commonly used in hypothesis testing when comparing sample means, especially in scenarios where the sample size is small or the population standard deviation is unknown. For example, it's used in t-tests for comparing means of two independent samples, paired samples, or for testing the significance of regression coefficients in linear regression.\n",
    "\n",
    "Confidence Intervals: \n",
    "\n",
    "The t-distribution is also utilized to construct confidence intervals for population parameters, such as the population mean, when the population standard deviation is unknown and the sample size is small."
   ]
  },
  {
   "cell_type": "code",
   "execution_count": 5,
   "id": "b2054c7b-441e-440d-9700-84a06087057b",
   "metadata": {},
   "outputs": [],
   "source": [
    "#Q12: What is t-statistic? State the formula for t-statistic."
   ]
  },
  {
   "cell_type": "markdown",
   "id": "c45ef344-9dd0-4dda-a6b8-391a00157f56",
   "metadata": {},
   "source": [
    "ANS =The t-statistic, also known as the Student's t-statistic, is a measure used in hypothesis testing to determine if there is a significant difference between the means of two groups. It's particularly useful when dealing with small sample sizes and when the population standard deviation is unknown.\n",
    "\n",
    "The formula for the t-statistic depends on the type of test being conducted. However, the general formula for the t-statistic when comparing the means of two independent samples is as follows:\n",
    "\n"
   ]
  },
  {
   "cell_type": "code",
   "execution_count": 1,
   "id": "ca86a2e2-36ab-4a46-9b92-99cea04c1b30",
   "metadata": {},
   "outputs": [],
   "source": [
    "#Q13. A coffee shop owner wants to estimate the average daily revenue for their shop. They take a random \n",
    "#sample of 50 days and find the sample mean revenue to be $500 with a standard deviation of $50. \n",
    "#Estimate the population mean revenue with a 95% confidence interval."
   ]
  },
  {
   "cell_type": "markdown",
   "id": "d80a02b9-b455-47be-a7a1-dbdb5793dde7",
   "metadata": {},
   "source": [
    "ANS = To estimate the population mean revenue with a 95% confidence interval, we can use the formula for the confidence interval of the population mean when the population standard deviation is unknown.\n",
    "\n",
    "The formula for the confidence interval for the population mean (μ) is:\n",
    "\n",
    "Confidence Interval=\n",
    "                     \n",
    "                     X bar +- t(s/_/n)\n",
    "     \n",
    "Where:\n",
    "\n",
    "\n",
    "_\n",
    "x  is the sample mean,\n",
    "\n",
    "s is the sample standard deviation,\n",
    "\n",
    "n is the sample size,\n",
    "\n",
    "t is the critical value from the t-distribution with\n",
    "\n",
    "n−1 degrees of freedom.\n",
    "\n",
    "\n",
    "Given:\n",
    "             _\n",
    "Sample mean (x)=$500\n",
    "\n",
    "Sample standard deviation (s) = $50\n",
    "\n",
    "\n",
    "Sample size (n) = 50\n",
    "\n",
    "Degrees of freedom (df) =n−1=50−1=49\n",
    "\n",
    "\n",
    "Confidence level = 95%, so α=0.05/2=0.025 (since it's a two-tailed test)\n",
    "\n",
    "\n",
    "We need to find the critical value t for a 95% confidence level with df=49.\n",
    "\n",
    "we can estimate with 95% confidence that the population mean revenue for the coffee shop falls within the range of $490.29 to $509.71."
   ]
  },
  {
   "cell_type": "code",
   "execution_count": 2,
   "id": "7450ef35-7367-4e16-93a3-eedb781b6756",
   "metadata": {},
   "outputs": [],
   "source": [
    "# Q14. A researcher hypothesizes that a new drug will decrease blood pressure by 10 mmHg. They conduct a \n",
    "#clinical trial with 100 patients and find that the sample mean decrease in blood pressure is 8 mmHg with a \n",
    "#standard deviation of 3 mmHg. Test the hypothesis with a significance level of 0.05."
   ]
  },
  {
   "cell_type": "markdown",
   "id": "0a35c1b8-dd95-40b4-960d-9cc2adece55e",
   "metadata": {},
   "source": [
    "ANS = To test the hypothesis that the new drug decreases blood pressure by 10 mmHg, we can perform a one-sample t-test. Here's how we can do it:\n",
    "\n",
    "Given:\n",
    "\n",
    "Sample size (n) = 100\n",
    "\n",
    "Sample mean (ˉx) = 8 mmHg\n",
    "\n",
    "Standard deviation (s) = 3 mmHg\n",
    "\n",
    "Hypothesized mean (μ0) = 10 mmHg\n",
    "\n",
    "Significance level (α) = 0.05\n",
    "\n",
    "The null and alternative hypotheses are:\n",
    "\n",
    "Null Hypothesis (H0): The drug does not decrease blood pressure by 10 mmHg (ˉX=10)\n",
    "\n",
    "Alternative Hypothesis (Ha): The drug decreases blood pressure by 10 mmHg (ˉx<10)\n",
    "\n",
    "We will use the formula for the t-test:\n",
    "\n",
    "t = ˉx - μ0 / s/ _/n\n",
    "\n",
    "t= − 20/3\n",
    "\n",
    "t≈−6.67\n",
    "\n",
    "Now, we need to find the critical t-value from the t-distribution table with n−1 degrees of freedom (where n=100 in our case) and a significance level of 0.05 for a one-tailed test.\n",
    "\n",
    "Since we have a one-tailed test and we're interested in whether the blood pressure decreases, we'll look for the critical value that corresponds to α=0.05 and df=99.\n",
    "\n",
    "From the t-distribution table or a statistical calculator, t critical≈−1.660.\n",
    "\n",
    "Since our calculated t value (-6.67) is less than the critical value (-1.660), we reject the null hypothesis.\n",
    "\n",
    "Therefore, we have sufficient evidence to conclude that the new drug decreases blood pressure by more than 10 mmHg at the 0.05 significance level.\n",
    "\n"
   ]
  },
  {
   "cell_type": "code",
   "execution_count": 3,
   "id": "1b8028b0-942a-4888-adb7-534bb8200f37",
   "metadata": {},
   "outputs": [],
   "source": [
    "# Q15. An electronics company produces a certain type of product with a mean weight of 5 pounds and a \n",
    "# standard deviation of 0.5 pounds. A random sample of 25 products is taken, and the sample mean weight \n",
    "# is found to be 4.8 pounds. Test the hypothesis that the true mean weight of the products is less than 5 \n",
    "# pounds with a significance level of 0.01."
   ]
  },
  {
   "cell_type": "markdown",
   "id": "0b4bd851-a155-472b-b4d0-390240488ec1",
   "metadata": {},
   "source": [
    "ANS = \n",
    "        To test the hypothesis that the true mean weight of the products is less than 5 pounds, we can perform a one-sample t-test. Here's how we can do it:\n",
    "        \n",
    "        Given:\n",
    "\n",
    "Population mean (μ) = 5 pounds\n",
    "\n",
    "Population standard deviation (σ) = 0.5 pounds\n",
    "\n",
    "Sample size (n) = 25\n",
    "\n",
    "Sample mean (ˉx) = 4.8 pounds\n",
    "\n",
    "Significance level (α) = 0.01\n",
    "\n",
    "The null and alternative hypotheses are:\n",
    "\n",
    "Null Hypothesis (H0): The true mean weight of the products is greater than or equal to 5 pounds (μ≥5)\n",
    "\n",
    "Alternative Hypothesis (H1): The true mean weight of the products is less than 5 pounds (μ<5)\n",
    "\n",
    "We will use the formula for the t-test:\n",
    "\n",
    "\n",
    "t = ˉx - μ0 / s/ _/n\n",
    "\n",
    "Now, we can calculate the t-value:\n",
    "\n",
    "t=−2\n",
    "\n",
    "Now, we need to find the critical t-value from the t-distribution table with n−1 degrees of freedom (where n=25 in our case) and a significance level of 0.01 for a one-tailed test.\n",
    "\n",
    "Since we have a one-tailed test and we're interested in whether the weight is less than 5 pounds, we'll look for the critical value that corresponds to α=0.01 and df=24.\n",
    "\n",
    "\n",
    "From the t-distribution table or a statistical calculator, t critical≈−2.492.\n",
    "\n",
    "Since our calculated t value (-2) is greater than the critical value (-2.492), we fail to reject the null hypothesis.\n",
    "\n",
    "Therefore, we do not have sufficient evidence to conclude that the true mean weight of the products is less than 5 pounds at the 0.01 significance level.\n"
   ]
  },
  {
   "cell_type": "code",
   "execution_count": 2,
   "id": "7f9a39ee-80f5-40a8-86b2-d898ed65e9c3",
   "metadata": {},
   "outputs": [],
   "source": [
    "# Q16. Two groups of students are given different study materials to prepare for a test. The first group (n1 = \n",
    "# 30) has a mean score of 80 with a standard deviation of 10, and the second group (n2 = 40) has a mean \n",
    "# score of 75 with a standard deviation of 8. Test the hypothesis that the population means for the two \n",
    "# groups are equal with a significance level of 0.01"
   ]
  },
  {
   "cell_type": "markdown",
   "id": "f63fbc68-8418-48b1-8bef-66e16a07426c",
   "metadata": {},
   "source": [
    "ANS = To test the hypothesis that the population means for the two groups are equal, we can perform an independent samples t-test. Here's how we can do it:\n",
    "\n",
    "Given:\n",
    "\n",
    "Group 1: n1=30, ˉx1=80, s1=10\n",
    "\n",
    "Group 2: n2=40, ˉx2=75, s2=8\n",
    "\n",
    "Significance level (α) = 0.01\n",
    "\n",
    "\n",
    "The null and alternative hypotheses are:\n",
    "\n",
    "Null Hypothesis (H0): μ1=μ2(the population means for the two groups are equal)\n",
    "\n",
    "Alternative Hypothesis (H1): μ1=μ2(the population means for the two groups are not equal)\n",
    "\n",
    "We will use the formula for the independent samples t-test:\n",
    "\n",
    "t= (ˉx1 - ˉx2=75) -(μ1-μ2)/ _/ s1^2/n1 + s2^2/n2\n",
    "\n",
    "\n",
    "Where:\n",
    "\n",
    "ˉx1and ˉx2 are the sample means for groups 1 and 2 respectively.s1 and s2are the sample standard deviations for groups 1 and 2 respectively.n1 and n2are the sample sizes for groups 1 and 2 respectively.\n",
    "μ1 and μ2are the population means for groups 1 and 2 respectively.\n",
    "\n",
    "\n",
    "Let's compute the t-value:\n",
    "\n",
    "t ≈ 5/2.024\n",
    "\n",
    "t≈2.47\n",
    "\n",
    "Now, we need to find the critical t-value from the t-distribution table with df=n1+n−2 degrees of freedom and a significance level of 0.01 for a two-tailed test.\n",
    "\n",
    "Given \n",
    "\n",
    "df=30+40−2=68, t critical ≈±2.647.\n",
    "\n",
    "Since :\n",
    "\n",
    "∣t∣<t critical, we fail to reject the null hypothesis.\n",
    "\n",
    "Therefore, at the 0.01 significance level, we do not have sufficient evidence to conclude that the population means for the two groups are different."
   ]
  },
  {
   "cell_type": "code",
   "execution_count": 1,
   "id": "b9f0df6d-26fe-485a-a084-cc7ff55ca55e",
   "metadata": {},
   "outputs": [],
   "source": [
    "# Q17. A marketing company wants to estimate the average number of ads watched by viewers during a TV \n",
    "# program. They take a random sample of 50 viewers and find that the sample mean is 4 with a standard \n",
    "# deviation of 1.5. Estimate the population mean with a 99% confidence interval"
   ]
  },
  {
   "cell_type": "markdown",
   "id": "f3a4748a-ab05-422f-aaae-98cb016feb85",
   "metadata": {},
   "source": [
    "ANS = To estimate the population mean with a 99% confidence interval, we can use the formula for the confidence interval for the population mean when the population standard deviation is known:\n",
    "\n",
    "Confidence Interval= ˉx ± z( σ/ _/ n)\n",
    "\n",
    "Where: ˉx is the sample mean,σ is the population standard deviation,n is the sample size,z is the z-score corresponding to the desired confidence level.\n",
    "\n",
    "Given:\n",
    "\n",
    "Sample mean (ˉx) = 4 \n",
    "\n",
    "Population standard deviation (σ) = 1.5\n",
    "\n",
    "Sample size (n) = 50\n",
    "\n",
    "Confidence level = 99%\n",
    "\n",
    "First, we need to find the z-score corresponding to the 99% confidence level. We can look this up in the standard normal distribution table or use statistical software.\n",
    "\n",
    "For a 99% confidence level, we want to find the z-score such that the area to the left of it is 0.995 (since it's a two-tailed test).\n",
    "\n",
    "From standard normal distribution tables, z≈2.576.\n",
    "\n",
    "Now, we can calculate the margin of error: \n",
    "\n",
    "Margin of Error=z (σ/ _/n)\n",
    "\n",
    "Margin of Error≈0.547\n",
    "\n",
    "Now, we can construct the confidence interval:\n",
    "\n",
    "Confidence Interval ± Margin of Error\n",
    "\n",
    "Confidence Interval=4±0.547\n",
    "\n",
    "Confidence Interval=(3.453,4.547)\n",
    "\n",
    "Therefore, with 99% confidence, we estimate that the average number of ads watched by viewers during a TV program is between 3.453 and 4.547.\n"
   ]
  }
 ],
 "metadata": {
  "kernelspec": {
   "display_name": "Python 3 (ipykernel)",
   "language": "python",
   "name": "python3"
  },
  "language_info": {
   "codemirror_mode": {
    "name": "ipython",
    "version": 3
   },
   "file_extension": ".py",
   "mimetype": "text/x-python",
   "name": "python",
   "nbconvert_exporter": "python",
   "pygments_lexer": "ipython3",
   "version": "3.10.8"
  }
 },
 "nbformat": 4,
 "nbformat_minor": 5
}
